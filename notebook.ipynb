{
 "cells": [
  {
   "cell_type": "code",
   "execution_count": 226,
   "metadata": {},
   "outputs": [],
   "source": [
    "import pandas as pd\n",
    "import numpy as np"
   ]
  },
  {
   "cell_type": "markdown",
   "metadata": {},
   "source": [
    "# Importação dos dataframes"
   ]
  },
  {
   "cell_type": "code",
   "execution_count": 227,
   "metadata": {},
   "outputs": [
    {
     "data": {
      "text/html": [
       "<div>\n",
       "<style scoped>\n",
       "    .dataframe tbody tr th:only-of-type {\n",
       "        vertical-align: middle;\n",
       "    }\n",
       "\n",
       "    .dataframe tbody tr th {\n",
       "        vertical-align: top;\n",
       "    }\n",
       "\n",
       "    .dataframe thead th {\n",
       "        text-align: right;\n",
       "    }\n",
       "</style>\n",
       "<table border=\"1\" class=\"dataframe\">\n",
       "  <thead>\n",
       "    <tr style=\"text-align: right;\">\n",
       "      <th></th>\n",
       "      <th>Id</th>\n",
       "      <th>Name</th>\n",
       "      <th>UnitPrice</th>\n",
       "    </tr>\n",
       "  </thead>\n",
       "  <tbody>\n",
       "    <tr>\n",
       "      <th>0</th>\n",
       "      <td>1</td>\n",
       "      <td>Build your own computer</td>\n",
       "      <td>1200.0</td>\n",
       "    </tr>\n",
       "    <tr>\n",
       "      <th>1</th>\n",
       "      <td>2</td>\n",
       "      <td>Digital Storm VANQUISH 3 Custom Performance PC</td>\n",
       "      <td>1259.0</td>\n",
       "    </tr>\n",
       "    <tr>\n",
       "      <th>2</th>\n",
       "      <td>3</td>\n",
       "      <td>Lenovo IdeaCentre 600 All-in-One PC</td>\n",
       "      <td>500.0</td>\n",
       "    </tr>\n",
       "    <tr>\n",
       "      <th>3</th>\n",
       "      <td>4</td>\n",
       "      <td>Apple MacBook Pro 13-inch</td>\n",
       "      <td>1800.0</td>\n",
       "    </tr>\n",
       "    <tr>\n",
       "      <th>4</th>\n",
       "      <td>5</td>\n",
       "      <td>Asus N551JK-XO076H Laptop</td>\n",
       "      <td>1500.0</td>\n",
       "    </tr>\n",
       "  </tbody>\n",
       "</table>\n",
       "</div>"
      ],
      "text/plain": [
       "   Id                                            Name  UnitPrice\n",
       "0   1                         Build your own computer     1200.0\n",
       "1   2  Digital Storm VANQUISH 3 Custom Performance PC     1259.0\n",
       "2   3             Lenovo IdeaCentre 600 All-in-One PC      500.0\n",
       "3   4                       Apple MacBook Pro 13-inch     1800.0\n",
       "4   5                       Asus N551JK-XO076H Laptop     1500.0"
      ]
     },
     "execution_count": 227,
     "metadata": {},
     "output_type": "execute_result"
    }
   ],
   "source": [
    "products = pd.read_json(\"data/products.json\")\n",
    "products.head()"
   ]
  },
  {
   "cell_type": "code",
   "execution_count": 228,
   "metadata": {},
   "outputs": [
    {
     "data": {
      "text/html": [
       "<div>\n",
       "<style scoped>\n",
       "    .dataframe tbody tr th:only-of-type {\n",
       "        vertical-align: middle;\n",
       "    }\n",
       "\n",
       "    .dataframe tbody tr th {\n",
       "        vertical-align: top;\n",
       "    }\n",
       "\n",
       "    .dataframe thead th {\n",
       "        text-align: right;\n",
       "    }\n",
       "</style>\n",
       "<table border=\"1\" class=\"dataframe\">\n",
       "  <thead>\n",
       "    <tr style=\"text-align: right;\">\n",
       "      <th></th>\n",
       "      <th>CustomerID</th>\n",
       "      <th>ProductID</th>\n",
       "      <th>Rate</th>\n",
       "      <th>CreateDate</th>\n",
       "    </tr>\n",
       "  </thead>\n",
       "  <tbody>\n",
       "    <tr>\n",
       "      <th>0</th>\n",
       "      <td>103416</td>\n",
       "      <td>619</td>\n",
       "      <td>1</td>\n",
       "      <td>2018/01/01 01:36:30</td>\n",
       "    </tr>\n",
       "    <tr>\n",
       "      <th>1</th>\n",
       "      <td>103654</td>\n",
       "      <td>411</td>\n",
       "      <td>1</td>\n",
       "      <td>2018/01/01 01:36:35</td>\n",
       "    </tr>\n",
       "    <tr>\n",
       "      <th>2</th>\n",
       "      <td>103954</td>\n",
       "      <td>298</td>\n",
       "      <td>3</td>\n",
       "      <td>2018/01/01 01:36:38</td>\n",
       "    </tr>\n",
       "    <tr>\n",
       "      <th>3</th>\n",
       "      <td>103672</td>\n",
       "      <td>361</td>\n",
       "      <td>5</td>\n",
       "      <td>2018/01/01 01:37:15</td>\n",
       "    </tr>\n",
       "    <tr>\n",
       "      <th>4</th>\n",
       "      <td>103960</td>\n",
       "      <td>536</td>\n",
       "      <td>5</td>\n",
       "      <td>2018/01/01 02:36:25</td>\n",
       "    </tr>\n",
       "  </tbody>\n",
       "</table>\n",
       "</div>"
      ],
      "text/plain": [
       "   CustomerID  ProductID  Rate           CreateDate\n",
       "0      103416        619     1  2018/01/01 01:36:30\n",
       "1      103654        411     1  2018/01/01 01:36:35\n",
       "2      103954        298     3  2018/01/01 01:36:38\n",
       "3      103672        361     5  2018/01/01 01:37:15\n",
       "4      103960        536     5  2018/01/01 02:36:25"
      ]
     },
     "execution_count": 228,
     "metadata": {},
     "output_type": "execute_result"
    }
   ],
   "source": [
    "ratings = pd.read_json(\"data/ratings.json\")\n",
    "ratings.head()"
   ]
  },
  {
   "cell_type": "markdown",
   "metadata": {},
   "source": [
    "# Tratamento de dados"
   ]
  },
  {
   "cell_type": "markdown",
   "metadata": {},
   "source": [
    "Retirando coluna createDate da DF de avaliações. Não é do nosso interesse."
   ]
  },
  {
   "cell_type": "code",
   "execution_count": 229,
   "metadata": {},
   "outputs": [],
   "source": [
    "ratings.drop(columns= \"CreateDate\", axis=1, inplace=True)"
   ]
  },
  {
   "cell_type": "markdown",
   "metadata": {},
   "source": [
    "Verificando a presença de valores nulos"
   ]
  },
  {
   "cell_type": "code",
   "execution_count": 230,
   "metadata": {},
   "outputs": [
    {
     "data": {
      "text/plain": [
       "CustomerID    0\n",
       "ProductID     0\n",
       "Rate          0\n",
       "dtype: int64"
      ]
     },
     "execution_count": 230,
     "metadata": {},
     "output_type": "execute_result"
    }
   ],
   "source": [
    "ratings.isna().sum()"
   ]
  },
  {
   "cell_type": "code",
   "execution_count": 231,
   "metadata": {},
   "outputs": [
    {
     "data": {
      "text/plain": [
       "Id           0\n",
       "Name         0\n",
       "UnitPrice    0\n",
       "dtype: int64"
      ]
     },
     "execution_count": 231,
     "metadata": {},
     "output_type": "execute_result"
    }
   ],
   "source": [
    "products.isna().sum()"
   ]
  },
  {
   "cell_type": "markdown",
   "metadata": {},
   "source": [
    "Criando uma coluna de quantidade de avaliação do produto para o DF de produtos."
   ]
  },
  {
   "cell_type": "code",
   "execution_count": 232,
   "metadata": {},
   "outputs": [],
   "source": [
    "rating_count = ratings['ProductID'].value_counts().reset_index()\n",
    "rating_count.columns = ['ProductID', 'rating_count']"
   ]
  },
  {
   "cell_type": "code",
   "execution_count": 233,
   "metadata": {},
   "outputs": [],
   "source": [
    "products = products.merge(rating_count, left_on='Id', right_on='ProductID', how='left')"
   ]
  },
  {
   "cell_type": "code",
   "execution_count": 234,
   "metadata": {},
   "outputs": [],
   "source": [
    "products.drop('ProductID', axis=1, inplace=True)"
   ]
  },
  {
   "cell_type": "markdown",
   "metadata": {},
   "source": [
    "Verificando se existem valores not a number na contagem de avaliações dos produtos."
   ]
  },
  {
   "cell_type": "code",
   "execution_count": 235,
   "metadata": {},
   "outputs": [
    {
     "data": {
      "text/plain": [
       "rating_count\n",
       "False    691\n",
       "Name: count, dtype: int64"
      ]
     },
     "execution_count": 235,
     "metadata": {},
     "output_type": "execute_result"
    }
   ],
   "source": [
    "products['rating_count'].isna().value_counts()"
   ]
  },
  {
   "cell_type": "code",
   "execution_count": 236,
   "metadata": {},
   "outputs": [
    {
     "data": {
      "text/html": [
       "<div>\n",
       "<style scoped>\n",
       "    .dataframe tbody tr th:only-of-type {\n",
       "        vertical-align: middle;\n",
       "    }\n",
       "\n",
       "    .dataframe tbody tr th {\n",
       "        vertical-align: top;\n",
       "    }\n",
       "\n",
       "    .dataframe thead th {\n",
       "        text-align: right;\n",
       "    }\n",
       "</style>\n",
       "<table border=\"1\" class=\"dataframe\">\n",
       "  <thead>\n",
       "    <tr style=\"text-align: right;\">\n",
       "      <th></th>\n",
       "      <th>Id</th>\n",
       "      <th>Name</th>\n",
       "      <th>UnitPrice</th>\n",
       "      <th>rating_count</th>\n",
       "    </tr>\n",
       "  </thead>\n",
       "  <tbody>\n",
       "    <tr>\n",
       "      <th>0</th>\n",
       "      <td>1</td>\n",
       "      <td>Build your own computer</td>\n",
       "      <td>1200.0</td>\n",
       "      <td>207</td>\n",
       "    </tr>\n",
       "    <tr>\n",
       "      <th>1</th>\n",
       "      <td>2</td>\n",
       "      <td>Digital Storm VANQUISH 3 Custom Performance PC</td>\n",
       "      <td>1259.0</td>\n",
       "      <td>204</td>\n",
       "    </tr>\n",
       "    <tr>\n",
       "      <th>2</th>\n",
       "      <td>3</td>\n",
       "      <td>Lenovo IdeaCentre 600 All-in-One PC</td>\n",
       "      <td>500.0</td>\n",
       "      <td>201</td>\n",
       "    </tr>\n",
       "    <tr>\n",
       "      <th>3</th>\n",
       "      <td>4</td>\n",
       "      <td>Apple MacBook Pro 13-inch</td>\n",
       "      <td>1800.0</td>\n",
       "      <td>184</td>\n",
       "    </tr>\n",
       "    <tr>\n",
       "      <th>4</th>\n",
       "      <td>5</td>\n",
       "      <td>Asus N551JK-XO076H Laptop</td>\n",
       "      <td>1500.0</td>\n",
       "      <td>198</td>\n",
       "    </tr>\n",
       "  </tbody>\n",
       "</table>\n",
       "</div>"
      ],
      "text/plain": [
       "   Id                                            Name  UnitPrice  rating_count\n",
       "0   1                         Build your own computer     1200.0           207\n",
       "1   2  Digital Storm VANQUISH 3 Custom Performance PC     1259.0           204\n",
       "2   3             Lenovo IdeaCentre 600 All-in-One PC      500.0           201\n",
       "3   4                       Apple MacBook Pro 13-inch     1800.0           184\n",
       "4   5                       Asus N551JK-XO076H Laptop     1500.0           198"
      ]
     },
     "execution_count": 236,
     "metadata": {},
     "output_type": "execute_result"
    }
   ],
   "source": [
    "products.head()"
   ]
  },
  {
   "cell_type": "markdown",
   "metadata": {},
   "source": [
    "# Anáilise Exploratória"
   ]
  },
  {
   "cell_type": "code",
   "execution_count": 237,
   "metadata": {},
   "outputs": [
    {
     "data": {
      "text/plain": [
       "(691, 4)"
      ]
     },
     "execution_count": 237,
     "metadata": {},
     "output_type": "execute_result"
    }
   ],
   "source": [
    "products.shape"
   ]
  },
  {
   "cell_type": "code",
   "execution_count": 238,
   "metadata": {},
   "outputs": [
    {
     "data": {
      "text/plain": [
       "(130754, 3)"
      ]
     },
     "execution_count": 238,
     "metadata": {},
     "output_type": "execute_result"
    }
   ],
   "source": [
    "ratings.shape"
   ]
  },
  {
   "cell_type": "code",
   "execution_count": 239,
   "metadata": {},
   "outputs": [
    {
     "data": {
      "text/plain": [
       "CustomerID\n",
       "103996    1427\n",
       "103765    1366\n",
       "103367    1341\n",
       "103505    1303\n",
       "103707    1257\n",
       "          ... \n",
       "103354     100\n",
       "103693     100\n",
       "14486      100\n",
       "103898     100\n",
       "103829     100\n",
       "Name: count, Length: 344, dtype: int64"
      ]
     },
     "execution_count": 239,
     "metadata": {},
     "output_type": "execute_result"
    }
   ],
   "source": [
    "ratings['CustomerID'].value_counts()"
   ]
  },
  {
   "cell_type": "code",
   "execution_count": 240,
   "metadata": {},
   "outputs": [
    {
     "data": {
      "text/plain": [
       "<Axes: >"
      ]
     },
     "execution_count": 240,
     "metadata": {},
     "output_type": "execute_result"
    },
    {
     "data": {
      "image/png": "[encoded data removed]",
      "text/plain": [
       "<Figure size 640x480 with 1 Axes>"
      ]
     },
     "metadata": {},
     "output_type": "display_data"
    }
   ],
   "source": [
    "ratings['CustomerID'].value_counts().hist(bins=50)"
   ]
  },
  {
   "cell_type": "markdown",
   "metadata": {},
   "source": [
    "Com o gráfico e a contagem acima, podemos vizualizar que a maioria dos usuários fizeram por volta de 100 e 200 avaliações. É uma quantidade muito grande de usuários, para uma quantidade pequena de avaliações. Não vai dar o peso ideal pro modelo, por isso vamos fazer uma filtragem para ter dados mais acertivos para a nossa ia. A nossa regra de negócio no momento será filtrar usuários que fizeram mais de 199 avaliações. Dependendo de como for a acertividade do nosso modelo preditivo, faremos uma avaliação da nossa regra de negócio."
   ]
  },
  {
   "cell_type": "markdown",
   "metadata": {},
   "source": [
    "# Pré processamento"
   ]
  },
  {
   "cell_type": "code",
   "execution_count": 241,
   "metadata": {},
   "outputs": [
    {
     "data": {
      "text/plain": [
       "(250,)"
      ]
     },
     "execution_count": 241,
     "metadata": {},
     "output_type": "execute_result"
    }
   ],
   "source": [
    "user_most_rated = ratings['CustomerID'].value_counts() > 199\n",
    "selected_users = user_most_rated[user_most_rated].index\n",
    "\n",
    "selected_users.shape"
   ]
  },
  {
   "cell_type": "markdown",
   "metadata": {},
   "source": [
    "Visualizando id's filtrados"
   ]
  },
  {
   "cell_type": "code",
   "execution_count": 242,
   "metadata": {},
   "outputs": [
    {
     "data": {
      "text/plain": [
       "Index([103996, 103765, 103367, 103505, 103707, 103629, 103834, 103907, 103873,\n",
       "       103820,\n",
       "       ...\n",
       "       103327, 103748, 103590, 103442, 103801, 103766, 103726, 103387, 103686,\n",
       "       103594],\n",
       "      dtype='int64', name='CustomerID', length=250)"
      ]
     },
     "execution_count": 242,
     "metadata": {},
     "output_type": "execute_result"
    }
   ],
   "source": [
    "selected_users"
   ]
  },
  {
   "cell_type": "markdown",
   "metadata": {},
   "source": [
    "Atualizando dataframe de avaliações com os usuários que avaliaram mais de 100 vezes"
   ]
  },
  {
   "cell_type": "code",
   "execution_count": 243,
   "metadata": {},
   "outputs": [],
   "source": [
    "ratings = ratings[ratings['CustomerID'].isin(selected_users)]"
   ]
  },
  {
   "cell_type": "code",
   "execution_count": 244,
   "metadata": {},
   "outputs": [
    {
     "data": {
      "text/plain": [
       "(117150, 3)"
      ]
     },
     "execution_count": 244,
     "metadata": {},
     "output_type": "execute_result"
    }
   ],
   "source": [
    "ratings.shape"
   ]
  },
  {
   "cell_type": "markdown",
   "metadata": {},
   "source": [
    "Aplicando a mesma lógica aos produtos"
   ]
  },
  {
   "cell_type": "code",
   "execution_count": 245,
   "metadata": {},
   "outputs": [
    {
     "data": {
      "text/html": [
       "<div>\n",
       "<style scoped>\n",
       "    .dataframe tbody tr th:only-of-type {\n",
       "        vertical-align: middle;\n",
       "    }\n",
       "\n",
       "    .dataframe tbody tr th {\n",
       "        vertical-align: top;\n",
       "    }\n",
       "\n",
       "    .dataframe thead th {\n",
       "        text-align: right;\n",
       "    }\n",
       "</style>\n",
       "<table border=\"1\" class=\"dataframe\">\n",
       "  <thead>\n",
       "    <tr style=\"text-align: right;\">\n",
       "      <th></th>\n",
       "      <th>Id</th>\n",
       "      <th>Name</th>\n",
       "      <th>UnitPrice</th>\n",
       "      <th>rating_count</th>\n",
       "    </tr>\n",
       "  </thead>\n",
       "  <tbody>\n",
       "    <tr>\n",
       "      <th>0</th>\n",
       "      <td>1</td>\n",
       "      <td>Build your own computer</td>\n",
       "      <td>1200.00</td>\n",
       "      <td>207</td>\n",
       "    </tr>\n",
       "    <tr>\n",
       "      <th>1</th>\n",
       "      <td>2</td>\n",
       "      <td>Digital Storm VANQUISH 3 Custom Performance PC</td>\n",
       "      <td>1259.00</td>\n",
       "      <td>204</td>\n",
       "    </tr>\n",
       "    <tr>\n",
       "      <th>2</th>\n",
       "      <td>3</td>\n",
       "      <td>Lenovo IdeaCentre 600 All-in-One PC</td>\n",
       "      <td>500.00</td>\n",
       "      <td>201</td>\n",
       "    </tr>\n",
       "    <tr>\n",
       "      <th>6</th>\n",
       "      <td>7</td>\n",
       "      <td>HP Spectre XT Pro UltraBook</td>\n",
       "      <td>1350.00</td>\n",
       "      <td>208</td>\n",
       "    </tr>\n",
       "    <tr>\n",
       "      <th>7</th>\n",
       "      <td>8</td>\n",
       "      <td>HP Envy 6-1180ca 15.6-Inch Sleekbook</td>\n",
       "      <td>1460.00</td>\n",
       "      <td>204</td>\n",
       "    </tr>\n",
       "    <tr>\n",
       "      <th>...</th>\n",
       "      <td>...</td>\n",
       "      <td>...</td>\n",
       "      <td>...</td>\n",
       "      <td>...</td>\n",
       "    </tr>\n",
       "    <tr>\n",
       "      <th>637</th>\n",
       "      <td>638</td>\n",
       "      <td>OPPO Reno6 Z 5G</td>\n",
       "      <td>254.00</td>\n",
       "      <td>200</td>\n",
       "    </tr>\n",
       "    <tr>\n",
       "      <th>647</th>\n",
       "      <td>648</td>\n",
       "      <td>Diamond Promise Ring 1/10 ct tw Baguette &amp; Rou...</td>\n",
       "      <td>299.99</td>\n",
       "      <td>203</td>\n",
       "    </tr>\n",
       "    <tr>\n",
       "      <th>686</th>\n",
       "      <td>687</td>\n",
       "      <td>Bird Box</td>\n",
       "      <td>1.00</td>\n",
       "      <td>204</td>\n",
       "    </tr>\n",
       "    <tr>\n",
       "      <th>687</th>\n",
       "      <td>688</td>\n",
       "      <td>Snowpiercer</td>\n",
       "      <td>2.00</td>\n",
       "      <td>202</td>\n",
       "    </tr>\n",
       "    <tr>\n",
       "      <th>688</th>\n",
       "      <td>689</td>\n",
       "      <td>Edge of Tomorrow</td>\n",
       "      <td>1.00</td>\n",
       "      <td>200</td>\n",
       "    </tr>\n",
       "  </tbody>\n",
       "</table>\n",
       "<p>134 rows × 4 columns</p>\n",
       "</div>"
      ],
      "text/plain": [
       "      Id                                               Name  UnitPrice  \\\n",
       "0      1                            Build your own computer    1200.00   \n",
       "1      2     Digital Storm VANQUISH 3 Custom Performance PC    1259.00   \n",
       "2      3                Lenovo IdeaCentre 600 All-in-One PC     500.00   \n",
       "6      7                        HP Spectre XT Pro UltraBook    1350.00   \n",
       "7      8               HP Envy 6-1180ca 15.6-Inch Sleekbook    1460.00   \n",
       "..   ...                                                ...        ...   \n",
       "637  638                                    OPPO Reno6 Z 5G     254.00   \n",
       "647  648  Diamond Promise Ring 1/10 ct tw Baguette & Rou...     299.99   \n",
       "686  687                                           Bird Box       1.00   \n",
       "687  688                                        Snowpiercer       2.00   \n",
       "688  689                                   Edge of Tomorrow       1.00   \n",
       "\n",
       "     rating_count  \n",
       "0             207  \n",
       "1             204  \n",
       "2             201  \n",
       "6             208  \n",
       "7             204  \n",
       "..            ...  \n",
       "637           200  \n",
       "647           203  \n",
       "686           204  \n",
       "687           202  \n",
       "688           200  \n",
       "\n",
       "[134 rows x 4 columns]"
      ]
     },
     "execution_count": 245,
     "metadata": {},
     "output_type": "execute_result"
    }
   ],
   "source": [
    "products = products[products['rating_count']> 199]\n",
    "\n",
    "products"
   ]
  },
  {
   "cell_type": "markdown",
   "metadata": {},
   "source": [
    "# Concatenação dos dataframes."
   ]
  },
  {
   "cell_type": "code",
   "execution_count": 246,
   "metadata": {},
   "outputs": [
    {
     "name": "stdout",
     "output_type": "stream",
     "text": [
      "<class 'pandas.core.frame.DataFrame'>\n",
      "Index: 134 entries, 0 to 688\n",
      "Data columns (total 4 columns):\n",
      " #   Column        Non-Null Count  Dtype  \n",
      "---  ------        --------------  -----  \n",
      " 0   Id            134 non-null    int64  \n",
      " 1   Name          134 non-null    object \n",
      " 2   UnitPrice     134 non-null    float64\n",
      " 3   rating_count  134 non-null    int64  \n",
      "dtypes: float64(1), int64(2), object(1)\n",
      "memory usage: 5.2+ KB\n"
     ]
    }
   ],
   "source": [
    "products.info()"
   ]
  },
  {
   "cell_type": "code",
   "execution_count": 247,
   "metadata": {},
   "outputs": [],
   "source": [
    "products.rename(columns={\"Id\": \"ProductID\"}, inplace=True)"
   ]
  },
  {
   "cell_type": "code",
   "execution_count": 248,
   "metadata": {},
   "outputs": [
    {
     "name": "stdout",
     "output_type": "stream",
     "text": [
      "<class 'pandas.core.frame.DataFrame'>\n",
      "Index: 134 entries, 0 to 688\n",
      "Data columns (total 4 columns):\n",
      " #   Column        Non-Null Count  Dtype  \n",
      "---  ------        --------------  -----  \n",
      " 0   ProductID     134 non-null    int64  \n",
      " 1   Name          134 non-null    object \n",
      " 2   UnitPrice     134 non-null    float64\n",
      " 3   rating_count  134 non-null    int64  \n",
      "dtypes: float64(1), int64(2), object(1)\n",
      "memory usage: 5.2+ KB\n"
     ]
    }
   ],
   "source": [
    "products.info()"
   ]
  },
  {
   "cell_type": "code",
   "execution_count": 249,
   "metadata": {},
   "outputs": [
    {
     "name": "stdout",
     "output_type": "stream",
     "text": [
      "<class 'pandas.core.frame.DataFrame'>\n",
      "Index: 117150 entries, 0 to 130753\n",
      "Data columns (total 3 columns):\n",
      " #   Column      Non-Null Count   Dtype\n",
      "---  ------      --------------   -----\n",
      " 0   CustomerID  117150 non-null  int64\n",
      " 1   ProductID   117150 non-null  int64\n",
      " 2   Rate        117150 non-null  int64\n",
      "dtypes: int64(3)\n",
      "memory usage: 3.6 MB\n"
     ]
    }
   ],
   "source": [
    "ratings.info()"
   ]
  },
  {
   "cell_type": "markdown",
   "metadata": {},
   "source": [
    "Concatenando dataframes com base no id dos produtos."
   ]
  },
  {
   "cell_type": "code",
   "execution_count": 250,
   "metadata": {},
   "outputs": [
    {
     "data": {
      "text/html": [
       "<div>\n",
       "<style scoped>\n",
       "    .dataframe tbody tr th:only-of-type {\n",
       "        vertical-align: middle;\n",
       "    }\n",
       "\n",
       "    .dataframe tbody tr th {\n",
       "        vertical-align: top;\n",
       "    }\n",
       "\n",
       "    .dataframe thead th {\n",
       "        text-align: right;\n",
       "    }\n",
       "</style>\n",
       "<table border=\"1\" class=\"dataframe\">\n",
       "  <thead>\n",
       "    <tr style=\"text-align: right;\">\n",
       "      <th></th>\n",
       "      <th>CustomerID</th>\n",
       "      <th>ProductID</th>\n",
       "      <th>Rate</th>\n",
       "      <th>Name</th>\n",
       "      <th>UnitPrice</th>\n",
       "      <th>rating_count</th>\n",
       "    </tr>\n",
       "  </thead>\n",
       "  <tbody>\n",
       "    <tr>\n",
       "      <th>0</th>\n",
       "      <td>103954</td>\n",
       "      <td>298</td>\n",
       "      <td>3</td>\n",
       "      <td>Heart Ring 1/5 ct tw Diamonds 10K Two-Tone Gold</td>\n",
       "      <td>479.00</td>\n",
       "      <td>200</td>\n",
       "    </tr>\n",
       "    <tr>\n",
       "      <th>1</th>\n",
       "      <td>103726</td>\n",
       "      <td>260</td>\n",
       "      <td>4</td>\n",
       "      <td>Men's Diamond Band 1-1/2 ct tw Round-cut 10K W...</td>\n",
       "      <td>3999.99</td>\n",
       "      <td>200</td>\n",
       "    </tr>\n",
       "    <tr>\n",
       "      <th>2</th>\n",
       "      <td>103651</td>\n",
       "      <td>388</td>\n",
       "      <td>5</td>\n",
       "      <td>Garnet MOM Heart Necklace Sterling Silver 18\"</td>\n",
       "      <td>179.99</td>\n",
       "      <td>205</td>\n",
       "    </tr>\n",
       "    <tr>\n",
       "      <th>3</th>\n",
       "      <td>103356</td>\n",
       "      <td>473</td>\n",
       "      <td>1</td>\n",
       "      <td>Le Vian Natural Emerald Necklace 1/5 ct tw Dia...</td>\n",
       "      <td>1299.99</td>\n",
       "      <td>202</td>\n",
       "    </tr>\n",
       "    <tr>\n",
       "      <th>4</th>\n",
       "      <td>103577</td>\n",
       "      <td>548</td>\n",
       "      <td>2</td>\n",
       "      <td>Unstoppable Love Necklace Lab-Created Sapphire...</td>\n",
       "      <td>99.99</td>\n",
       "      <td>202</td>\n",
       "    </tr>\n",
       "  </tbody>\n",
       "</table>\n",
       "</div>"
      ],
      "text/plain": [
       "   CustomerID  ProductID  Rate  \\\n",
       "0      103954        298     3   \n",
       "1      103726        260     4   \n",
       "2      103651        388     5   \n",
       "3      103356        473     1   \n",
       "4      103577        548     2   \n",
       "\n",
       "                                                Name  UnitPrice  rating_count  \n",
       "0    Heart Ring 1/5 ct tw Diamonds 10K Two-Tone Gold     479.00           200  \n",
       "1  Men's Diamond Band 1-1/2 ct tw Round-cut 10K W...    3999.99           200  \n",
       "2      Garnet MOM Heart Necklace Sterling Silver 18\"     179.99           205  \n",
       "3  Le Vian Natural Emerald Necklace 1/5 ct tw Dia...    1299.99           202  \n",
       "4  Unstoppable Love Necklace Lab-Created Sapphire...      99.99           202  "
      ]
     },
     "execution_count": 250,
     "metadata": {},
     "output_type": "execute_result"
    }
   ],
   "source": [
    "df_ratings_products = ratings.merge(products, on= 'ProductID')\n",
    "df_ratings_products.head()"
   ]
  },
  {
   "cell_type": "code",
   "execution_count": 267,
   "metadata": {},
   "outputs": [
    {
     "data": {
      "text/plain": [
       "CustomerID      0\n",
       "ProductID       0\n",
       "Rate            0\n",
       "Name            0\n",
       "UnitPrice       0\n",
       "rating_count    0\n",
       "dtype: int64"
      ]
     },
     "execution_count": 267,
     "metadata": {},
     "output_type": "execute_result"
    }
   ],
   "source": [
    "df_ratings_products.isna().sum()"
   ]
  },
  {
   "cell_type": "markdown",
   "metadata": {},
   "source": [
    "Dropando possíveis duplicatas"
   ]
  },
  {
   "cell_type": "code",
   "execution_count": 273,
   "metadata": {},
   "outputs": [],
   "source": [
    "df_ratings_products.drop_duplicates(['CustomerID', 'ProductID'], inplace=True)"
   ]
  },
  {
   "cell_type": "markdown",
   "metadata": {},
   "source": [
    "retirada do id do produto(Não é mais necessario, recomendação será um valor rotulado \"Name\")"
   ]
  },
  {
   "cell_type": "code",
   "execution_count": 274,
   "metadata": {},
   "outputs": [],
   "source": [
    "df_ratings_products.drop(columns=\"ProductID\", axis=1, inplace=True)"
   ]
  },
  {
   "cell_type": "code",
   "execution_count": 275,
   "metadata": {},
   "outputs": [
    {
     "name": "stdout",
     "output_type": "stream",
     "text": [
      "<class 'pandas.core.frame.DataFrame'>\n",
      "Index: 18478 entries, 0 to 24726\n",
      "Data columns (total 5 columns):\n",
      " #   Column        Non-Null Count  Dtype  \n",
      "---  ------        --------------  -----  \n",
      " 0   CustomerID    18478 non-null  int64  \n",
      " 1   Rate          18478 non-null  int64  \n",
      " 2   Name          18478 non-null  object \n",
      " 3   UnitPrice     18478 non-null  float64\n",
      " 4   rating_count  18478 non-null  int64  \n",
      "dtypes: float64(1), int64(3), object(1)\n",
      "memory usage: 866.2+ KB\n"
     ]
    }
   ],
   "source": [
    "df_ratings_products.info()"
   ]
  },
  {
   "cell_type": "markdown",
   "metadata": {},
   "source": [
    "# Convertendo Dataframe novo para treinamento do nosso classificador"
   ]
  },
  {
   "cell_type": "code",
   "execution_count": 276,
   "metadata": {},
   "outputs": [],
   "source": [
    "products_pivot = df_ratings_products.pivot_table(columns=\"CustomerID\", index=\"Name\", values='Rate')"
   ]
  },
  {
   "cell_type": "code",
   "execution_count": 279,
   "metadata": {},
   "outputs": [
    {
     "data": {
      "text/html": [
       "<div>\n",
       "<style scoped>\n",
       "    .dataframe tbody tr th:only-of-type {\n",
       "        vertical-align: middle;\n",
       "    }\n",
       "\n",
       "    .dataframe tbody tr th {\n",
       "        vertical-align: top;\n",
       "    }\n",
       "\n",
       "    .dataframe thead th {\n",
       "        text-align: right;\n",
       "    }\n",
       "</style>\n",
       "<table border=\"1\" class=\"dataframe\">\n",
       "  <thead>\n",
       "    <tr style=\"text-align: right;\">\n",
       "      <th>CustomerID</th>\n",
       "      <th>6</th>\n",
       "      <th>13874</th>\n",
       "      <th>13879</th>\n",
       "      <th>14180</th>\n",
       "      <th>14902</th>\n",
       "      <th>14906</th>\n",
       "      <th>15018</th>\n",
       "      <th>15042</th>\n",
       "      <th>15202</th>\n",
       "      <th>22881</th>\n",
       "      <th>...</th>\n",
       "      <th>103971</th>\n",
       "      <th>103972</th>\n",
       "      <th>103977</th>\n",
       "      <th>103982</th>\n",
       "      <th>103985</th>\n",
       "      <th>103987</th>\n",
       "      <th>103988</th>\n",
       "      <th>103991</th>\n",
       "      <th>103996</th>\n",
       "      <th>103997</th>\n",
       "    </tr>\n",
       "    <tr>\n",
       "      <th>Name</th>\n",
       "      <th></th>\n",
       "      <th></th>\n",
       "      <th></th>\n",
       "      <th></th>\n",
       "      <th></th>\n",
       "      <th></th>\n",
       "      <th></th>\n",
       "      <th></th>\n",
       "      <th></th>\n",
       "      <th></th>\n",
       "      <th></th>\n",
       "      <th></th>\n",
       "      <th></th>\n",
       "      <th></th>\n",
       "      <th></th>\n",
       "      <th></th>\n",
       "      <th></th>\n",
       "      <th></th>\n",
       "      <th></th>\n",
       "      <th></th>\n",
       "      <th></th>\n",
       "    </tr>\n",
       "  </thead>\n",
       "  <tbody>\n",
       "    <tr>\n",
       "      <th>1/6 Ct. tw Diamond Initials Couple's Heart Necklace</th>\n",
       "      <td>1.0</td>\n",
       "      <td>NaN</td>\n",
       "      <td>NaN</td>\n",
       "      <td>4.0</td>\n",
       "      <td>NaN</td>\n",
       "      <td>4.0</td>\n",
       "      <td>NaN</td>\n",
       "      <td>NaN</td>\n",
       "      <td>NaN</td>\n",
       "      <td>NaN</td>\n",
       "      <td>...</td>\n",
       "      <td>5.0</td>\n",
       "      <td>NaN</td>\n",
       "      <td>NaN</td>\n",
       "      <td>NaN</td>\n",
       "      <td>NaN</td>\n",
       "      <td>5.0</td>\n",
       "      <td>NaN</td>\n",
       "      <td>NaN</td>\n",
       "      <td>5.0</td>\n",
       "      <td>NaN</td>\n",
       "    </tr>\n",
       "    <tr>\n",
       "      <th>1/8 Ct. tw Diamond Nameplate Heart Necklace</th>\n",
       "      <td>NaN</td>\n",
       "      <td>4.0</td>\n",
       "      <td>5.0</td>\n",
       "      <td>4.0</td>\n",
       "      <td>NaN</td>\n",
       "      <td>NaN</td>\n",
       "      <td>NaN</td>\n",
       "      <td>2.0</td>\n",
       "      <td>NaN</td>\n",
       "      <td>2.0</td>\n",
       "      <td>...</td>\n",
       "      <td>NaN</td>\n",
       "      <td>1.0</td>\n",
       "      <td>5.0</td>\n",
       "      <td>4.0</td>\n",
       "      <td>NaN</td>\n",
       "      <td>NaN</td>\n",
       "      <td>NaN</td>\n",
       "      <td>2.0</td>\n",
       "      <td>4.0</td>\n",
       "      <td>NaN</td>\n",
       "    </tr>\n",
       "    <tr>\n",
       "      <th>Amethyst &amp; White Lab-Created Sapphire Drop Earrings 10K Rose Gold</th>\n",
       "      <td>1.0</td>\n",
       "      <td>NaN</td>\n",
       "      <td>NaN</td>\n",
       "      <td>NaN</td>\n",
       "      <td>NaN</td>\n",
       "      <td>4.0</td>\n",
       "      <td>NaN</td>\n",
       "      <td>5.0</td>\n",
       "      <td>1.0</td>\n",
       "      <td>1.0</td>\n",
       "      <td>...</td>\n",
       "      <td>NaN</td>\n",
       "      <td>5.0</td>\n",
       "      <td>NaN</td>\n",
       "      <td>NaN</td>\n",
       "      <td>1.0</td>\n",
       "      <td>5.0</td>\n",
       "      <td>5.0</td>\n",
       "      <td>NaN</td>\n",
       "      <td>4.0</td>\n",
       "      <td>1.0</td>\n",
       "    </tr>\n",
       "    <tr>\n",
       "      <th>Amethyst Heart Necklace Diamond Accents Sterling Silver</th>\n",
       "      <td>1.0</td>\n",
       "      <td>NaN</td>\n",
       "      <td>NaN</td>\n",
       "      <td>NaN</td>\n",
       "      <td>NaN</td>\n",
       "      <td>4.0</td>\n",
       "      <td>NaN</td>\n",
       "      <td>NaN</td>\n",
       "      <td>1.0</td>\n",
       "      <td>1.0</td>\n",
       "      <td>...</td>\n",
       "      <td>5.0</td>\n",
       "      <td>5.0</td>\n",
       "      <td>5.0</td>\n",
       "      <td>4.0</td>\n",
       "      <td>NaN</td>\n",
       "      <td>5.0</td>\n",
       "      <td>NaN</td>\n",
       "      <td>NaN</td>\n",
       "      <td>4.0</td>\n",
       "      <td>1.0</td>\n",
       "    </tr>\n",
       "    <tr>\n",
       "      <th>Aquamarine &amp; Diamond Ring 10K White Gold</th>\n",
       "      <td>1.0</td>\n",
       "      <td>5.0</td>\n",
       "      <td>NaN</td>\n",
       "      <td>4.0</td>\n",
       "      <td>NaN</td>\n",
       "      <td>4.0</td>\n",
       "      <td>NaN</td>\n",
       "      <td>2.0</td>\n",
       "      <td>NaN</td>\n",
       "      <td>1.0</td>\n",
       "      <td>...</td>\n",
       "      <td>5.0</td>\n",
       "      <td>1.0</td>\n",
       "      <td>5.0</td>\n",
       "      <td>4.0</td>\n",
       "      <td>NaN</td>\n",
       "      <td>NaN</td>\n",
       "      <td>5.0</td>\n",
       "      <td>2.0</td>\n",
       "      <td>4.0</td>\n",
       "      <td>NaN</td>\n",
       "    </tr>\n",
       "  </tbody>\n",
       "</table>\n",
       "<p>5 rows × 250 columns</p>\n",
       "</div>"
      ],
      "text/plain": [
       "CustomerID                                          6       13874   13879   \\\n",
       "Name                                                                         \n",
       "1/6 Ct. tw Diamond Initials Couple's Heart Neck...     1.0     NaN     NaN   \n",
       "1/8 Ct. tw Diamond Nameplate Heart Necklace            NaN     4.0     5.0   \n",
       "Amethyst & White Lab-Created Sapphire Drop Earr...     1.0     NaN     NaN   \n",
       "Amethyst Heart Necklace Diamond Accents Sterlin...     1.0     NaN     NaN   \n",
       "Aquamarine & Diamond Ring 10K White Gold               1.0     5.0     NaN   \n",
       "\n",
       "CustomerID                                          14180   14902   14906   \\\n",
       "Name                                                                         \n",
       "1/6 Ct. tw Diamond Initials Couple's Heart Neck...     4.0     NaN     4.0   \n",
       "1/8 Ct. tw Diamond Nameplate Heart Necklace            4.0     NaN     NaN   \n",
       "Amethyst & White Lab-Created Sapphire Drop Earr...     NaN     NaN     4.0   \n",
       "Amethyst Heart Necklace Diamond Accents Sterlin...     NaN     NaN     4.0   \n",
       "Aquamarine & Diamond Ring 10K White Gold               4.0     NaN     4.0   \n",
       "\n",
       "CustomerID                                          15018   15042   15202   \\\n",
       "Name                                                                         \n",
       "1/6 Ct. tw Diamond Initials Couple's Heart Neck...     NaN     NaN     NaN   \n",
       "1/8 Ct. tw Diamond Nameplate Heart Necklace            NaN     2.0     NaN   \n",
       "Amethyst & White Lab-Created Sapphire Drop Earr...     NaN     5.0     1.0   \n",
       "Amethyst Heart Necklace Diamond Accents Sterlin...     NaN     NaN     1.0   \n",
       "Aquamarine & Diamond Ring 10K White Gold               NaN     2.0     NaN   \n",
       "\n",
       "CustomerID                                          22881   ...  103971  \\\n",
       "Name                                                        ...           \n",
       "1/6 Ct. tw Diamond Initials Couple's Heart Neck...     NaN  ...     5.0   \n",
       "1/8 Ct. tw Diamond Nameplate Heart Necklace            2.0  ...     NaN   \n",
       "Amethyst & White Lab-Created Sapphire Drop Earr...     1.0  ...     NaN   \n",
       "Amethyst Heart Necklace Diamond Accents Sterlin...     1.0  ...     5.0   \n",
       "Aquamarine & Diamond Ring 10K White Gold               1.0  ...     5.0   \n",
       "\n",
       "CustomerID                                          103972  103977  103982  \\\n",
       "Name                                                                         \n",
       "1/6 Ct. tw Diamond Initials Couple's Heart Neck...     NaN     NaN     NaN   \n",
       "1/8 Ct. tw Diamond Nameplate Heart Necklace            1.0     5.0     4.0   \n",
       "Amethyst & White Lab-Created Sapphire Drop Earr...     5.0     NaN     NaN   \n",
       "Amethyst Heart Necklace Diamond Accents Sterlin...     5.0     5.0     4.0   \n",
       "Aquamarine & Diamond Ring 10K White Gold               1.0     5.0     4.0   \n",
       "\n",
       "CustomerID                                          103985  103987  103988  \\\n",
       "Name                                                                         \n",
       "1/6 Ct. tw Diamond Initials Couple's Heart Neck...     NaN     5.0     NaN   \n",
       "1/8 Ct. tw Diamond Nameplate Heart Necklace            NaN     NaN     NaN   \n",
       "Amethyst & White Lab-Created Sapphire Drop Earr...     1.0     5.0     5.0   \n",
       "Amethyst Heart Necklace Diamond Accents Sterlin...     NaN     5.0     NaN   \n",
       "Aquamarine & Diamond Ring 10K White Gold               NaN     NaN     5.0   \n",
       "\n",
       "CustomerID                                          103991  103996  103997  \n",
       "Name                                                                        \n",
       "1/6 Ct. tw Diamond Initials Couple's Heart Neck...     NaN     5.0     NaN  \n",
       "1/8 Ct. tw Diamond Nameplate Heart Necklace            2.0     4.0     NaN  \n",
       "Amethyst & White Lab-Created Sapphire Drop Earr...     NaN     4.0     1.0  \n",
       "Amethyst Heart Necklace Diamond Accents Sterlin...     NaN     4.0     1.0  \n",
       "Aquamarine & Diamond Ring 10K White Gold               2.0     4.0     NaN  \n",
       "\n",
       "[5 rows x 250 columns]"
      ]
     },
     "execution_count": 279,
     "metadata": {},
     "output_type": "execute_result"
    }
   ],
   "source": [
    "products_pivot.head()"
   ]
  },
  {
   "cell_type": "markdown",
   "metadata": {},
   "source": [
    "Podemos ver pelo novo dataframe acima que para cada usuário temos uma coluna com suas avaliações. E cada linha representa um produto. Esses dados serão agora tratados um última vez antes de treinarmos com o KNN"
   ]
  },
  {
   "cell_type": "markdown",
   "metadata": {},
   "source": [
    "Preenchendo valores nan com zero para treinamento da IA"
   ]
  },
  {
   "cell_type": "code",
   "execution_count": 281,
   "metadata": {},
   "outputs": [
    {
     "data": {
      "text/html": [
       "<div>\n",
       "<style scoped>\n",
       "    .dataframe tbody tr th:only-of-type {\n",
       "        vertical-align: middle;\n",
       "    }\n",
       "\n",
       "    .dataframe tbody tr th {\n",
       "        vertical-align: top;\n",
       "    }\n",
       "\n",
       "    .dataframe thead th {\n",
       "        text-align: right;\n",
       "    }\n",
       "</style>\n",
       "<table border=\"1\" class=\"dataframe\">\n",
       "  <thead>\n",
       "    <tr style=\"text-align: right;\">\n",
       "      <th>CustomerID</th>\n",
       "      <th>6</th>\n",
       "      <th>13874</th>\n",
       "      <th>13879</th>\n",
       "      <th>14180</th>\n",
       "      <th>14902</th>\n",
       "      <th>14906</th>\n",
       "      <th>15018</th>\n",
       "      <th>15042</th>\n",
       "      <th>15202</th>\n",
       "      <th>22881</th>\n",
       "      <th>...</th>\n",
       "      <th>103971</th>\n",
       "      <th>103972</th>\n",
       "      <th>103977</th>\n",
       "      <th>103982</th>\n",
       "      <th>103985</th>\n",
       "      <th>103987</th>\n",
       "      <th>103988</th>\n",
       "      <th>103991</th>\n",
       "      <th>103996</th>\n",
       "      <th>103997</th>\n",
       "    </tr>\n",
       "    <tr>\n",
       "      <th>Name</th>\n",
       "      <th></th>\n",
       "      <th></th>\n",
       "      <th></th>\n",
       "      <th></th>\n",
       "      <th></th>\n",
       "      <th></th>\n",
       "      <th></th>\n",
       "      <th></th>\n",
       "      <th></th>\n",
       "      <th></th>\n",
       "      <th></th>\n",
       "      <th></th>\n",
       "      <th></th>\n",
       "      <th></th>\n",
       "      <th></th>\n",
       "      <th></th>\n",
       "      <th></th>\n",
       "      <th></th>\n",
       "      <th></th>\n",
       "      <th></th>\n",
       "      <th></th>\n",
       "    </tr>\n",
       "  </thead>\n",
       "  <tbody>\n",
       "    <tr>\n",
       "      <th>1/6 Ct. tw Diamond Initials Couple's Heart Necklace</th>\n",
       "      <td>1.0</td>\n",
       "      <td>0.0</td>\n",
       "      <td>0.0</td>\n",
       "      <td>4.0</td>\n",
       "      <td>0.0</td>\n",
       "      <td>4.0</td>\n",
       "      <td>0.0</td>\n",
       "      <td>0.0</td>\n",
       "      <td>0.0</td>\n",
       "      <td>0.0</td>\n",
       "      <td>...</td>\n",
       "      <td>5.0</td>\n",
       "      <td>0.0</td>\n",
       "      <td>0.0</td>\n",
       "      <td>0.0</td>\n",
       "      <td>0.0</td>\n",
       "      <td>5.0</td>\n",
       "      <td>0.0</td>\n",
       "      <td>0.0</td>\n",
       "      <td>5.0</td>\n",
       "      <td>0.0</td>\n",
       "    </tr>\n",
       "    <tr>\n",
       "      <th>1/8 Ct. tw Diamond Nameplate Heart Necklace</th>\n",
       "      <td>0.0</td>\n",
       "      <td>4.0</td>\n",
       "      <td>5.0</td>\n",
       "      <td>4.0</td>\n",
       "      <td>0.0</td>\n",
       "      <td>0.0</td>\n",
       "      <td>0.0</td>\n",
       "      <td>2.0</td>\n",
       "      <td>0.0</td>\n",
       "      <td>2.0</td>\n",
       "      <td>...</td>\n",
       "      <td>0.0</td>\n",
       "      <td>1.0</td>\n",
       "      <td>5.0</td>\n",
       "      <td>4.0</td>\n",
       "      <td>0.0</td>\n",
       "      <td>0.0</td>\n",
       "      <td>0.0</td>\n",
       "      <td>2.0</td>\n",
       "      <td>4.0</td>\n",
       "      <td>0.0</td>\n",
       "    </tr>\n",
       "    <tr>\n",
       "      <th>Amethyst &amp; White Lab-Created Sapphire Drop Earrings 10K Rose Gold</th>\n",
       "      <td>1.0</td>\n",
       "      <td>0.0</td>\n",
       "      <td>0.0</td>\n",
       "      <td>0.0</td>\n",
       "      <td>0.0</td>\n",
       "      <td>4.0</td>\n",
       "      <td>0.0</td>\n",
       "      <td>5.0</td>\n",
       "      <td>1.0</td>\n",
       "      <td>1.0</td>\n",
       "      <td>...</td>\n",
       "      <td>0.0</td>\n",
       "      <td>5.0</td>\n",
       "      <td>0.0</td>\n",
       "      <td>0.0</td>\n",
       "      <td>1.0</td>\n",
       "      <td>5.0</td>\n",
       "      <td>5.0</td>\n",
       "      <td>0.0</td>\n",
       "      <td>4.0</td>\n",
       "      <td>1.0</td>\n",
       "    </tr>\n",
       "    <tr>\n",
       "      <th>Amethyst Heart Necklace Diamond Accents Sterling Silver</th>\n",
       "      <td>1.0</td>\n",
       "      <td>0.0</td>\n",
       "      <td>0.0</td>\n",
       "      <td>0.0</td>\n",
       "      <td>0.0</td>\n",
       "      <td>4.0</td>\n",
       "      <td>0.0</td>\n",
       "      <td>0.0</td>\n",
       "      <td>1.0</td>\n",
       "      <td>1.0</td>\n",
       "      <td>...</td>\n",
       "      <td>5.0</td>\n",
       "      <td>5.0</td>\n",
       "      <td>5.0</td>\n",
       "      <td>4.0</td>\n",
       "      <td>0.0</td>\n",
       "      <td>5.0</td>\n",
       "      <td>0.0</td>\n",
       "      <td>0.0</td>\n",
       "      <td>4.0</td>\n",
       "      <td>1.0</td>\n",
       "    </tr>\n",
       "    <tr>\n",
       "      <th>Aquamarine &amp; Diamond Ring 10K White Gold</th>\n",
       "      <td>1.0</td>\n",
       "      <td>5.0</td>\n",
       "      <td>0.0</td>\n",
       "      <td>4.0</td>\n",
       "      <td>0.0</td>\n",
       "      <td>4.0</td>\n",
       "      <td>0.0</td>\n",
       "      <td>2.0</td>\n",
       "      <td>0.0</td>\n",
       "      <td>1.0</td>\n",
       "      <td>...</td>\n",
       "      <td>5.0</td>\n",
       "      <td>1.0</td>\n",
       "      <td>5.0</td>\n",
       "      <td>4.0</td>\n",
       "      <td>0.0</td>\n",
       "      <td>0.0</td>\n",
       "      <td>5.0</td>\n",
       "      <td>2.0</td>\n",
       "      <td>4.0</td>\n",
       "      <td>0.0</td>\n",
       "    </tr>\n",
       "  </tbody>\n",
       "</table>\n",
       "<p>5 rows × 250 columns</p>\n",
       "</div>"
      ],
      "text/plain": [
       "CustomerID                                          6       13874   13879   \\\n",
       "Name                                                                         \n",
       "1/6 Ct. tw Diamond Initials Couple's Heart Neck...     1.0     0.0     0.0   \n",
       "1/8 Ct. tw Diamond Nameplate Heart Necklace            0.0     4.0     5.0   \n",
       "Amethyst & White Lab-Created Sapphire Drop Earr...     1.0     0.0     0.0   \n",
       "Amethyst Heart Necklace Diamond Accents Sterlin...     1.0     0.0     0.0   \n",
       "Aquamarine & Diamond Ring 10K White Gold               1.0     5.0     0.0   \n",
       "\n",
       "CustomerID                                          14180   14902   14906   \\\n",
       "Name                                                                         \n",
       "1/6 Ct. tw Diamond Initials Couple's Heart Neck...     4.0     0.0     4.0   \n",
       "1/8 Ct. tw Diamond Nameplate Heart Necklace            4.0     0.0     0.0   \n",
       "Amethyst & White Lab-Created Sapphire Drop Earr...     0.0     0.0     4.0   \n",
       "Amethyst Heart Necklace Diamond Accents Sterlin...     0.0     0.0     4.0   \n",
       "Aquamarine & Diamond Ring 10K White Gold               4.0     0.0     4.0   \n",
       "\n",
       "CustomerID                                          15018   15042   15202   \\\n",
       "Name                                                                         \n",
       "1/6 Ct. tw Diamond Initials Couple's Heart Neck...     0.0     0.0     0.0   \n",
       "1/8 Ct. tw Diamond Nameplate Heart Necklace            0.0     2.0     0.0   \n",
       "Amethyst & White Lab-Created Sapphire Drop Earr...     0.0     5.0     1.0   \n",
       "Amethyst Heart Necklace Diamond Accents Sterlin...     0.0     0.0     1.0   \n",
       "Aquamarine & Diamond Ring 10K White Gold               0.0     2.0     0.0   \n",
       "\n",
       "CustomerID                                          22881   ...  103971  \\\n",
       "Name                                                        ...           \n",
       "1/6 Ct. tw Diamond Initials Couple's Heart Neck...     0.0  ...     5.0   \n",
       "1/8 Ct. tw Diamond Nameplate Heart Necklace            2.0  ...     0.0   \n",
       "Amethyst & White Lab-Created Sapphire Drop Earr...     1.0  ...     0.0   \n",
       "Amethyst Heart Necklace Diamond Accents Sterlin...     1.0  ...     5.0   \n",
       "Aquamarine & Diamond Ring 10K White Gold               1.0  ...     5.0   \n",
       "\n",
       "CustomerID                                          103972  103977  103982  \\\n",
       "Name                                                                         \n",
       "1/6 Ct. tw Diamond Initials Couple's Heart Neck...     0.0     0.0     0.0   \n",
       "1/8 Ct. tw Diamond Nameplate Heart Necklace            1.0     5.0     4.0   \n",
       "Amethyst & White Lab-Created Sapphire Drop Earr...     5.0     0.0     0.0   \n",
       "Amethyst Heart Necklace Diamond Accents Sterlin...     5.0     5.0     4.0   \n",
       "Aquamarine & Diamond Ring 10K White Gold               1.0     5.0     4.0   \n",
       "\n",
       "CustomerID                                          103985  103987  103988  \\\n",
       "Name                                                                         \n",
       "1/6 Ct. tw Diamond Initials Couple's Heart Neck...     0.0     5.0     0.0   \n",
       "1/8 Ct. tw Diamond Nameplate Heart Necklace            0.0     0.0     0.0   \n",
       "Amethyst & White Lab-Created Sapphire Drop Earr...     1.0     5.0     5.0   \n",
       "Amethyst Heart Necklace Diamond Accents Sterlin...     0.0     5.0     0.0   \n",
       "Aquamarine & Diamond Ring 10K White Gold               0.0     0.0     5.0   \n",
       "\n",
       "CustomerID                                          103991  103996  103997  \n",
       "Name                                                                        \n",
       "1/6 Ct. tw Diamond Initials Couple's Heart Neck...     0.0     5.0     0.0  \n",
       "1/8 Ct. tw Diamond Nameplate Heart Necklace            2.0     4.0     0.0  \n",
       "Amethyst & White Lab-Created Sapphire Drop Earr...     0.0     4.0     1.0  \n",
       "Amethyst Heart Necklace Diamond Accents Sterlin...     0.0     4.0     1.0  \n",
       "Aquamarine & Diamond Ring 10K White Gold               2.0     4.0     0.0  \n",
       "\n",
       "[5 rows x 250 columns]"
      ]
     },
     "execution_count": 281,
     "metadata": {},
     "output_type": "execute_result"
    }
   ],
   "source": [
    "products_pivot.fillna(0, inplace=True)\n",
    "products_pivot.head()"
   ]
  },
  {
   "cell_type": "markdown",
   "metadata": {},
   "source": [
    "Para poder treinar nosso modelo, considerando que nosso conjunto de dados de treino é muito grande, teremos que compactar esse dataframe utilizando o conceito de matriz sparse. Atravéz da função csr_matrix conseguimos simplificar a extrutura do dataframe onde existem muitos zeros para poder deixa-lo mais leve."
   ]
  },
  {
   "cell_type": "code",
   "execution_count": 282,
   "metadata": {},
   "outputs": [],
   "source": [
    "from scipy.sparse import csr_matrix"
   ]
  },
  {
   "cell_type": "code",
   "execution_count": 283,
   "metadata": {},
   "outputs": [],
   "source": [
    "products_sparse = csr_matrix(products_pivot)"
   ]
  },
  {
   "cell_type": "markdown",
   "metadata": {},
   "source": [
    "# Treinamento do modelo"
   ]
  },
  {
   "cell_type": "code",
   "execution_count": 285,
   "metadata": {},
   "outputs": [],
   "source": [
    "from sklearn.neighbors import NearestNeighbors"
   ]
  }
 ],
 "metadata": {
  "kernelspec": {
   "display_name": ".venv",
   "language": "python",
   "name": "python3"
  },
  "language_info": {
   "codemirror_mode": {
    "name": "ipython",
    "version": 3
   },
   "file_extension": ".py",
   "mimetype": "text/x-python",
   "name": "python",
   "nbconvert_exporter": "python",
   "pygments_lexer": "ipython3",
   "version": "3.12.3"
  }
 },
 "nbformat": 4,
 "nbformat_minor": 2
}
